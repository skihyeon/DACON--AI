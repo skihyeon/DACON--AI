import torch
from torchvision.utils import make_grid
import matplotlib.pyplot as plt
from data_loader import get_train_loader  # 데이터 로더를 가져오는 함수

# 1. 학습된 모델 불러오기
model_path = './model_files/AE.pt'  # 모델 파일 경로
model = torch.jit.load(model_path)
model.eval()

# 2. 데이터 로더 준비
# get_train_loader 함수는 데이터셋 경로와 배치 크기 등을 인자로 받습니다.
# 여기서는 예시를 위해 학습 데이터 로더를 사용합니다.
data_loader = get_train_loader('./datas/train.csv', batch_size=32)

# 3. 모델을 사용하여 데이터 재구성
# 데이터 로더에서 첫 번째 배치를 가져옵니다.
images, _ = next(iter(data_loader))
reconstructed = model(images)

# 4. 원본 이미지와 재구성된 이미지 시각화
# 원본 이미지 시각화
fig, ax = plt.subplots(figsize=(10, 5))
ax.set_title('Original Images')
ax.imshow(make_grid(images, nrow=8).permute(1, 2, 0))
ax.axis('off')

# 재구성된 이미지 시각화
fig, ax = plt.subplots(figsize=(10, 5))
ax.set_title('Reconstructed Images')
ax.imshow(make_grid(reconstructed, nrow=8).permute(1, 2, 0))
ax.axis('off')

plt.show()